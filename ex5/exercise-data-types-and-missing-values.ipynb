{
 "cells": [
  {
   "cell_type": "markdown",
   "id": "ee2ce7d0",
   "metadata": {
    "papermill": {
     "duration": 0.006273,
     "end_time": "2023-05-29T10:42:37.374737",
     "exception": false,
     "start_time": "2023-05-29T10:42:37.368464",
     "status": "completed"
    },
    "tags": []
   },
   "source": [
    "**This notebook is an exercise in the [Pandas](https://www.kaggle.com/learn/pandas) course.  You can reference the tutorial at [this link](https://www.kaggle.com/residentmario/data-types-and-missing-values).**\n",
    "\n",
    "---\n"
   ]
  },
  {
   "cell_type": "markdown",
   "id": "08e2b505",
   "metadata": {
    "papermill": {
     "duration": 0.005211,
     "end_time": "2023-05-29T10:42:37.385753",
     "exception": false,
     "start_time": "2023-05-29T10:42:37.380542",
     "status": "completed"
    },
    "tags": []
   },
   "source": [
    "# Introduction\n",
    "\n",
    "Run the following cell to load your data and some utility functions."
   ]
  },
  {
   "cell_type": "code",
   "execution_count": 1,
   "id": "59d94c35",
   "metadata": {
    "execution": {
     "iopub.execute_input": "2023-05-29T10:42:37.399683Z",
     "iopub.status.busy": "2023-05-29T10:42:37.398750Z",
     "iopub.status.idle": "2023-05-29T10:42:41.222386Z",
     "shell.execute_reply": "2023-05-29T10:42:41.221527Z"
    },
    "papermill": {
     "duration": 3.834397,
     "end_time": "2023-05-29T10:42:41.225746",
     "exception": false,
     "start_time": "2023-05-29T10:42:37.391349",
     "status": "completed"
    },
    "tags": []
   },
   "outputs": [
    {
     "name": "stdout",
     "output_type": "stream",
     "text": [
      "Setup complete.\n"
     ]
    }
   ],
   "source": [
    "import pandas as pd\n",
    "\n",
    "reviews = pd.read_csv(\"../input/wine-reviews/winemag-data-130k-v2.csv\", index_col=0)\n",
    "\n",
    "from learntools.core import binder; binder.bind(globals())\n",
    "from learntools.pandas.data_types_and_missing_data import *\n",
    "print(\"Setup complete.\")"
   ]
  },
  {
   "cell_type": "markdown",
   "id": "2ffe61b7",
   "metadata": {
    "papermill": {
     "duration": 0.005214,
     "end_time": "2023-05-29T10:42:41.237339",
     "exception": false,
     "start_time": "2023-05-29T10:42:41.232125",
     "status": "completed"
    },
    "tags": []
   },
   "source": [
    "# Exercises"
   ]
  },
  {
   "cell_type": "markdown",
   "id": "e66b5626",
   "metadata": {
    "papermill": {
     "duration": 0.005186,
     "end_time": "2023-05-29T10:42:41.248135",
     "exception": false,
     "start_time": "2023-05-29T10:42:41.242949",
     "status": "completed"
    },
    "tags": []
   },
   "source": [
    "## 1. \n",
    "What is the data type of the `points` column in the dataset?"
   ]
  },
  {
   "cell_type": "code",
   "execution_count": 2,
   "id": "36ab82e3",
   "metadata": {
    "execution": {
     "iopub.execute_input": "2023-05-29T10:42:41.261650Z",
     "iopub.status.busy": "2023-05-29T10:42:41.260942Z",
     "iopub.status.idle": "2023-05-29T10:42:41.271155Z",
     "shell.execute_reply": "2023-05-29T10:42:41.270065Z"
    },
    "papermill": {
     "duration": 0.019827,
     "end_time": "2023-05-29T10:42:41.273439",
     "exception": false,
     "start_time": "2023-05-29T10:42:41.253612",
     "status": "completed"
    },
    "tags": []
   },
   "outputs": [
    {
     "data": {
      "application/javascript": [
       "parent.postMessage({\"jupyterEvent\": \"custom.exercise_interaction\", \"data\": {\"outcomeType\": 1, \"valueTowardsCompletion\": 0.25, \"interactionType\": 1, \"questionType\": 1, \"questionId\": \"1_PointsDtype\", \"learnToolsVersion\": \"0.3.4\", \"failureMessage\": \"\", \"exceptionClass\": \"\", \"trace\": \"\"}}, \"*\")"
      ],
      "text/plain": [
       "<IPython.core.display.Javascript object>"
      ]
     },
     "metadata": {},
     "output_type": "display_data"
    },
    {
     "data": {
      "text/markdown": [
       "<span style=\"color:#33cc33\">Correct</span>"
      ],
      "text/plain": [
       "Correct"
      ]
     },
     "metadata": {},
     "output_type": "display_data"
    }
   ],
   "source": [
    "# Your code here\n",
    "dtype = reviews.points.dtype\n",
    "\n",
    "# Check your answer\n",
    "q1.check()"
   ]
  },
  {
   "cell_type": "code",
   "execution_count": 3,
   "id": "0def8754",
   "metadata": {
    "execution": {
     "iopub.execute_input": "2023-05-29T10:42:41.289417Z",
     "iopub.status.busy": "2023-05-29T10:42:41.288633Z",
     "iopub.status.idle": "2023-05-29T10:42:41.293471Z",
     "shell.execute_reply": "2023-05-29T10:42:41.292561Z"
    },
    "papermill": {
     "duration": 0.014958,
     "end_time": "2023-05-29T10:42:41.295977",
     "exception": false,
     "start_time": "2023-05-29T10:42:41.281019",
     "status": "completed"
    },
    "tags": []
   },
   "outputs": [],
   "source": [
    "#q1.hint()\n",
    "#q1.solution()"
   ]
  },
  {
   "cell_type": "markdown",
   "id": "39a5a722",
   "metadata": {
    "papermill": {
     "duration": 0.005796,
     "end_time": "2023-05-29T10:42:41.307907",
     "exception": false,
     "start_time": "2023-05-29T10:42:41.302111",
     "status": "completed"
    },
    "tags": []
   },
   "source": [
    "## 2. \n",
    "Create a Series from entries in the `points` column, but convert the entries to strings. Hint: strings are `str` in native Python."
   ]
  },
  {
   "cell_type": "code",
   "execution_count": 4,
   "id": "c6346f61",
   "metadata": {
    "execution": {
     "iopub.execute_input": "2023-05-29T10:42:41.322396Z",
     "iopub.status.busy": "2023-05-29T10:42:41.321664Z",
     "iopub.status.idle": "2023-05-29T10:42:41.426028Z",
     "shell.execute_reply": "2023-05-29T10:42:41.424872Z"
    },
    "papermill": {
     "duration": 0.114225,
     "end_time": "2023-05-29T10:42:41.428246",
     "exception": false,
     "start_time": "2023-05-29T10:42:41.314021",
     "status": "completed"
    },
    "tags": []
   },
   "outputs": [
    {
     "data": {
      "application/javascript": [
       "parent.postMessage({\"jupyterEvent\": \"custom.exercise_interaction\", \"data\": {\"outcomeType\": 1, \"valueTowardsCompletion\": 0.25, \"interactionType\": 1, \"questionType\": 1, \"questionId\": \"2_StrPoints\", \"learnToolsVersion\": \"0.3.4\", \"failureMessage\": \"\", \"exceptionClass\": \"\", \"trace\": \"\"}}, \"*\")"
      ],
      "text/plain": [
       "<IPython.core.display.Javascript object>"
      ]
     },
     "metadata": {},
     "output_type": "display_data"
    },
    {
     "data": {
      "text/markdown": [
       "<span style=\"color:#33cc33\">Correct</span>"
      ],
      "text/plain": [
       "Correct"
      ]
     },
     "metadata": {},
     "output_type": "display_data"
    }
   ],
   "source": [
    "point_strings = reviews.points.astype('str')\n",
    "\n",
    "# Check your answer\n",
    "q2.check()"
   ]
  },
  {
   "cell_type": "code",
   "execution_count": 5,
   "id": "b7e31ba4",
   "metadata": {
    "execution": {
     "iopub.execute_input": "2023-05-29T10:42:41.443022Z",
     "iopub.status.busy": "2023-05-29T10:42:41.442330Z",
     "iopub.status.idle": "2023-05-29T10:42:41.455434Z",
     "shell.execute_reply": "2023-05-29T10:42:41.454392Z"
    },
    "papermill": {
     "duration": 0.023181,
     "end_time": "2023-05-29T10:42:41.457655",
     "exception": false,
     "start_time": "2023-05-29T10:42:41.434474",
     "status": "completed"
    },
    "tags": []
   },
   "outputs": [
    {
     "data": {
      "application/javascript": [
       "parent.postMessage({\"jupyterEvent\": \"custom.exercise_interaction\", \"data\": {\"interactionType\": 2, \"questionType\": 1, \"questionId\": \"2_StrPoints\", \"learnToolsVersion\": \"0.3.4\", \"valueTowardsCompletion\": 0.0, \"failureMessage\": \"\", \"exceptionClass\": \"\", \"trace\": \"\", \"outcomeType\": 4}}, \"*\")"
      ],
      "text/plain": [
       "<IPython.core.display.Javascript object>"
      ]
     },
     "metadata": {},
     "output_type": "display_data"
    },
    {
     "data": {
      "text/markdown": [
       "<span style=\"color:#3366cc\">Hint:</span> Convert a column of one type to another by using the `astype` function."
      ],
      "text/plain": [
       "Hint: Convert a column of one type to another by using the `astype` function."
      ]
     },
     "metadata": {},
     "output_type": "display_data"
    },
    {
     "data": {
      "application/javascript": [
       "parent.postMessage({\"jupyterEvent\": \"custom.exercise_interaction\", \"data\": {\"interactionType\": 3, \"questionType\": 1, \"questionId\": \"2_StrPoints\", \"learnToolsVersion\": \"0.3.4\", \"valueTowardsCompletion\": 0.0, \"failureMessage\": \"\", \"exceptionClass\": \"\", \"trace\": \"\", \"outcomeType\": 4}}, \"*\")"
      ],
      "text/plain": [
       "<IPython.core.display.Javascript object>"
      ]
     },
     "metadata": {},
     "output_type": "display_data"
    },
    {
     "data": {
      "text/markdown": [
       "<span style=\"color:#33cc99\">Solution:</span> \n",
       "```python\n",
       "point_strings = reviews.points.astype(str)\n",
       "```"
      ],
      "text/plain": [
       "Solution: \n",
       "```python\n",
       "point_strings = reviews.points.astype(str)\n",
       "```"
      ]
     },
     "metadata": {},
     "output_type": "display_data"
    }
   ],
   "source": [
    "q2.hint()\n",
    "q2.solution()"
   ]
  },
  {
   "cell_type": "markdown",
   "id": "1e2f447c",
   "metadata": {
    "papermill": {
     "duration": 0.006769,
     "end_time": "2023-05-29T10:42:41.471461",
     "exception": false,
     "start_time": "2023-05-29T10:42:41.464692",
     "status": "completed"
    },
    "tags": []
   },
   "source": [
    "## 3.\n",
    "Sometimes the price column is null. How many reviews in the dataset are missing a price?"
   ]
  },
  {
   "cell_type": "code",
   "execution_count": 6,
   "id": "db306c34",
   "metadata": {
    "execution": {
     "iopub.execute_input": "2023-05-29T10:42:41.488130Z",
     "iopub.status.busy": "2023-05-29T10:42:41.487321Z",
     "iopub.status.idle": "2023-05-29T10:42:41.498317Z",
     "shell.execute_reply": "2023-05-29T10:42:41.497399Z"
    },
    "papermill": {
     "duration": 0.022188,
     "end_time": "2023-05-29T10:42:41.500625",
     "exception": false,
     "start_time": "2023-05-29T10:42:41.478437",
     "status": "completed"
    },
    "tags": []
   },
   "outputs": [
    {
     "data": {
      "application/javascript": [
       "parent.postMessage({\"jupyterEvent\": \"custom.exercise_interaction\", \"data\": {\"outcomeType\": 1, \"valueTowardsCompletion\": 0.25, \"interactionType\": 1, \"questionType\": 1, \"questionId\": \"3_CountMissingPrices\", \"learnToolsVersion\": \"0.3.4\", \"failureMessage\": \"\", \"exceptionClass\": \"\", \"trace\": \"\"}}, \"*\")"
      ],
      "text/plain": [
       "<IPython.core.display.Javascript object>"
      ]
     },
     "metadata": {},
     "output_type": "display_data"
    },
    {
     "data": {
      "text/markdown": [
       "<span style=\"color:#33cc33\">Correct</span>"
      ],
      "text/plain": [
       "Correct"
      ]
     },
     "metadata": {},
     "output_type": "display_data"
    }
   ],
   "source": [
    "n_missing_prices = reviews.price.isnull().sum()\n",
    "\n",
    "# Check your answer\n",
    "q3.check()"
   ]
  },
  {
   "cell_type": "code",
   "execution_count": 7,
   "id": "abda26b3",
   "metadata": {
    "execution": {
     "iopub.execute_input": "2023-05-29T10:42:41.517705Z",
     "iopub.status.busy": "2023-05-29T10:42:41.516893Z",
     "iopub.status.idle": "2023-05-29T10:42:41.530598Z",
     "shell.execute_reply": "2023-05-29T10:42:41.529500Z"
    },
    "papermill": {
     "duration": 0.024999,
     "end_time": "2023-05-29T10:42:41.532941",
     "exception": false,
     "start_time": "2023-05-29T10:42:41.507942",
     "status": "completed"
    },
    "tags": []
   },
   "outputs": [
    {
     "data": {
      "application/javascript": [
       "parent.postMessage({\"jupyterEvent\": \"custom.exercise_interaction\", \"data\": {\"interactionType\": 2, \"questionType\": 1, \"questionId\": \"3_CountMissingPrices\", \"learnToolsVersion\": \"0.3.4\", \"valueTowardsCompletion\": 0.0, \"failureMessage\": \"\", \"exceptionClass\": \"\", \"trace\": \"\", \"outcomeType\": 4}}, \"*\")"
      ],
      "text/plain": [
       "<IPython.core.display.Javascript object>"
      ]
     },
     "metadata": {},
     "output_type": "display_data"
    },
    {
     "data": {
      "text/markdown": [
       "<span style=\"color:#3366cc\">Hint:</span> Use `pd.isnull()`."
      ],
      "text/plain": [
       "Hint: Use `pd.isnull()`."
      ]
     },
     "metadata": {},
     "output_type": "display_data"
    },
    {
     "data": {
      "application/javascript": [
       "parent.postMessage({\"jupyterEvent\": \"custom.exercise_interaction\", \"data\": {\"interactionType\": 3, \"questionType\": 1, \"questionId\": \"3_CountMissingPrices\", \"learnToolsVersion\": \"0.3.4\", \"valueTowardsCompletion\": 0.0, \"failureMessage\": \"\", \"exceptionClass\": \"\", \"trace\": \"\", \"outcomeType\": 4}}, \"*\")"
      ],
      "text/plain": [
       "<IPython.core.display.Javascript object>"
      ]
     },
     "metadata": {},
     "output_type": "display_data"
    },
    {
     "data": {
      "text/markdown": [
       "<span style=\"color:#33cc99\">Solution:</span> \n",
       "```python\n",
       "missing_price_reviews = reviews[reviews.price.isnull()]\n",
       "n_missing_prices = len(missing_price_reviews)\n",
       "# Cute alternative solution: if we sum a boolean series, True is treated as 1 and False as 0\n",
       "n_missing_prices = reviews.price.isnull().sum()\n",
       "# or equivalently:\n",
       "n_missing_prices = pd.isnull(reviews.price).sum()\n",
       "\n",
       "```"
      ],
      "text/plain": [
       "Solution: \n",
       "```python\n",
       "missing_price_reviews = reviews[reviews.price.isnull()]\n",
       "n_missing_prices = len(missing_price_reviews)\n",
       "# Cute alternative solution: if we sum a boolean series, True is treated as 1 and False as 0\n",
       "n_missing_prices = reviews.price.isnull().sum()\n",
       "# or equivalently:\n",
       "n_missing_prices = pd.isnull(reviews.price).sum()\n",
       "\n",
       "```"
      ]
     },
     "metadata": {},
     "output_type": "display_data"
    }
   ],
   "source": [
    "q3.hint()\n",
    "q3.solution()"
   ]
  },
  {
   "cell_type": "markdown",
   "id": "3dbf3bd1",
   "metadata": {
    "papermill": {
     "duration": 0.007711,
     "end_time": "2023-05-29T10:42:41.548717",
     "exception": false,
     "start_time": "2023-05-29T10:42:41.541006",
     "status": "completed"
    },
    "tags": []
   },
   "source": [
    "## 4.\n",
    "What are the most common wine-producing regions? Create a Series counting the number of times each value occurs in the `region_1` field. This field is often missing data, so replace missing values with `Unknown`. Sort in descending order.  Your output should look something like this:\n",
    "\n",
    "```\n",
    "Unknown                    21247\n",
    "Napa Valley                 4480\n",
    "                           ...  \n",
    "Bardolino Superiore            1\n",
    "Primitivo del Tarantino        1\n",
    "Name: region_1, Length: 1230, dtype: int64\n",
    "```"
   ]
  },
  {
   "cell_type": "code",
   "execution_count": 8,
   "id": "2e2aa575",
   "metadata": {
    "execution": {
     "iopub.execute_input": "2023-05-29T10:42:41.566743Z",
     "iopub.status.busy": "2023-05-29T10:42:41.566318Z",
     "iopub.status.idle": "2023-05-29T10:42:41.650566Z",
     "shell.execute_reply": "2023-05-29T10:42:41.649544Z"
    },
    "papermill": {
     "duration": 0.096184,
     "end_time": "2023-05-29T10:42:41.653018",
     "exception": false,
     "start_time": "2023-05-29T10:42:41.556834",
     "status": "completed"
    },
    "tags": []
   },
   "outputs": [
    {
     "data": {
      "application/javascript": [
       "parent.postMessage({\"jupyterEvent\": \"custom.exercise_interaction\", \"data\": {\"outcomeType\": 1, \"valueTowardsCompletion\": 0.25, \"interactionType\": 1, \"questionType\": 2, \"questionId\": \"4_ReviewsPerRegion\", \"learnToolsVersion\": \"0.3.4\", \"failureMessage\": \"\", \"exceptionClass\": \"\", \"trace\": \"\"}}, \"*\")"
      ],
      "text/plain": [
       "<IPython.core.display.Javascript object>"
      ]
     },
     "metadata": {},
     "output_type": "display_data"
    },
    {
     "data": {
      "text/markdown": [
       "<span style=\"color:#33cc33\">Correct</span>"
      ],
      "text/plain": [
       "Correct"
      ]
     },
     "metadata": {},
     "output_type": "display_data"
    }
   ],
   "source": [
    "\n",
    "reviews_per_region = reviews.region_1.fillna('Unknown').value_counts().sort_values(ascending=False)\n",
    "# Check your answer\n",
    "q4.check()"
   ]
  },
  {
   "cell_type": "code",
   "execution_count": 9,
   "id": "5d16ffba",
   "metadata": {
    "execution": {
     "iopub.execute_input": "2023-05-29T10:42:41.672422Z",
     "iopub.status.busy": "2023-05-29T10:42:41.671990Z",
     "iopub.status.idle": "2023-05-29T10:42:41.687318Z",
     "shell.execute_reply": "2023-05-29T10:42:41.686149Z"
    },
    "papermill": {
     "duration": 0.028046,
     "end_time": "2023-05-29T10:42:41.689681",
     "exception": false,
     "start_time": "2023-05-29T10:42:41.661635",
     "status": "completed"
    },
    "tags": []
   },
   "outputs": [
    {
     "data": {
      "application/javascript": [
       "parent.postMessage({\"jupyterEvent\": \"custom.exercise_interaction\", \"data\": {\"interactionType\": 2, \"questionType\": 2, \"questionId\": \"4_ReviewsPerRegion\", \"learnToolsVersion\": \"0.3.4\", \"valueTowardsCompletion\": 0.0, \"failureMessage\": \"\", \"exceptionClass\": \"\", \"trace\": \"\", \"outcomeType\": 4}}, \"*\")"
      ],
      "text/plain": [
       "<IPython.core.display.Javascript object>"
      ]
     },
     "metadata": {},
     "output_type": "display_data"
    },
    {
     "data": {
      "text/markdown": [
       "<span style=\"color:#3366cc\">Hint:</span> Use `fillna()`, `value_counts()`, and `sort_values()`."
      ],
      "text/plain": [
       "Hint: Use `fillna()`, `value_counts()`, and `sort_values()`."
      ]
     },
     "metadata": {},
     "output_type": "display_data"
    },
    {
     "data": {
      "application/javascript": [
       "parent.postMessage({\"jupyterEvent\": \"custom.exercise_interaction\", \"data\": {\"interactionType\": 3, \"questionType\": 2, \"questionId\": \"4_ReviewsPerRegion\", \"learnToolsVersion\": \"0.3.4\", \"valueTowardsCompletion\": 0.0, \"failureMessage\": \"\", \"exceptionClass\": \"\", \"trace\": \"\", \"outcomeType\": 4}}, \"*\")"
      ],
      "text/plain": [
       "<IPython.core.display.Javascript object>"
      ]
     },
     "metadata": {},
     "output_type": "display_data"
    },
    {
     "data": {
      "text/markdown": [
       "<span style=\"color:#33cc99\">Solution:</span> \n",
       "```python\n",
       "reviews_per_region = reviews.region_1.fillna('Unknown').value_counts().sort_values(ascending=False)\n",
       "```"
      ],
      "text/plain": [
       "Solution: \n",
       "```python\n",
       "reviews_per_region = reviews.region_1.fillna('Unknown').value_counts().sort_values(ascending=False)\n",
       "```"
      ]
     },
     "metadata": {},
     "output_type": "display_data"
    }
   ],
   "source": [
    "q4.hint()\n",
    "q4.solution()"
   ]
  },
  {
   "cell_type": "markdown",
   "id": "6ce0a5d3",
   "metadata": {
    "papermill": {
     "duration": 0.008856,
     "end_time": "2023-05-29T10:42:41.708212",
     "exception": false,
     "start_time": "2023-05-29T10:42:41.699356",
     "status": "completed"
    },
    "tags": []
   },
   "source": [
    "# Keep going\n",
    "\n",
    "Move on to **[renaming and combining](https://www.kaggle.com/residentmario/renaming-and-combining)**."
   ]
  },
  {
   "cell_type": "markdown",
   "id": "8e6ff392",
   "metadata": {
    "papermill": {
     "duration": 0.008553,
     "end_time": "2023-05-29T10:42:41.725708",
     "exception": false,
     "start_time": "2023-05-29T10:42:41.717155",
     "status": "completed"
    },
    "tags": []
   },
   "source": [
    "---\n",
    "\n",
    "\n",
    "\n",
    "\n",
    "*Have questions or comments? Visit the [course discussion forum](https://www.kaggle.com/learn/pandas/discussion) to chat with other learners.*"
   ]
  }
 ],
 "metadata": {
  "kernelspec": {
   "display_name": "Python 3",
   "language": "python",
   "name": "python3"
  },
  "language_info": {
   "codemirror_mode": {
    "name": "ipython",
    "version": 3
   },
   "file_extension": ".py",
   "mimetype": "text/x-python",
   "name": "python",
   "nbconvert_exporter": "python",
   "pygments_lexer": "ipython3",
   "version": "3.10.10"
  },
  "papermill": {
   "default_parameters": {},
   "duration": 19.37086,
   "end_time": "2023-05-29T10:42:43.058369",
   "environment_variables": {},
   "exception": null,
   "input_path": "__notebook__.ipynb",
   "output_path": "__notebook__.ipynb",
   "parameters": {},
   "start_time": "2023-05-29T10:42:23.687509",
   "version": "2.4.0"
  }
 },
 "nbformat": 4,
 "nbformat_minor": 5
}
